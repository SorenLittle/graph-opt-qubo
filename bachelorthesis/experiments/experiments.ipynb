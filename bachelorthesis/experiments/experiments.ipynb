{
 "cells": [
  {
   "cell_type": "markdown",
   "source": [
    "## Generate parameter set for graph optimizations"
   ],
   "metadata": {
    "collapsed": false,
    "pycharm": {
     "name": "#%% md\n"
    }
   }
  },
  {
   "cell_type": "code",
   "execution_count": 44,
   "outputs": [
    {
     "data": {
      "text/plain": "[{'0': {'positions': 1, 'diagonal': 5, 'non_edges': -5}},\n {'1': {'positions': 1,\n   'diagonal': -5,\n   'nodes_with_edges': -5,\n   'edges': 10,\n   'non_edges': -5}},\n {'2': {'positions': 1, 'diagonal': 5}},\n {'3': {'positions': 1,\n   'diagonal': 5,\n   'nodes_with_edges': 10,\n   'edges': 10,\n   'non_edges': 10}},\n {'4': {'positions': 1, 'diagonal': -5, 'nodes_with_edges': 10}},\n {'5': {'positions': 1, 'diagonal': 5, 'nodes_with_edges': -5, 'edges': -5}},\n {'6': {'positions': 1,\n   'diagonal': -5,\n   'nodes_with_edges': 5,\n   'non_edges': -5}},\n {'0': {'positions': 'colors',\n   'start_node_score': -5,\n   'terminal_node_score': -5,\n   'diagonal': -10,\n   'one_node_many_positions': 5,\n   'one_position_many_nodes': 10,\n   'edges': 5,\n   'edge_weights_factor': 1,\n   'edge_weights_cycles_factor': -1,\n   'edge_weights_self_factor': 1}},\n {'0': {'positions': 'n',\n   'start_node_score': -5,\n   'terminal_node_score': -5,\n   'diagonal': -10,\n   'one_node_many_positions': 5,\n   'one_position_many_nodes': 10,\n   'edges': 5,\n   'edge_weights_factor': 1,\n   'edge_weights_cycles_factor': -1,\n   'edge_weights_self_factor': 1}},\n {'1': {'positions': 'colors',\n   'terminal_node_score': -5,\n   'diagonal': 5,\n   'one_position_many_nodes': 5,\n   'edges': 10,\n   'edge_weights_factor': -1,\n   'edge_weights_cycles_factor': 1,\n   'edge_weights_self_factor': 1,\n   'non_edges': 5,\n   'invalid_traversal': 5,\n   'invalid_traversal_cycle': 5,\n   'invalid_traversal_self': 5}},\n {'1': {'positions': 'n',\n   'terminal_node_score': -5,\n   'diagonal': 5,\n   'one_position_many_nodes': 5,\n   'edges': 10,\n   'edge_weights_factor': -1,\n   'edge_weights_cycles_factor': 1,\n   'edge_weights_self_factor': 1,\n   'non_edges': 5,\n   'invalid_traversal': 5,\n   'invalid_traversal_cycle': 5,\n   'invalid_traversal_self': 5}},\n {'2': {'positions': 'colors',\n   'start_node_score': 5,\n   'diagonal': -10,\n   'one_node_many_positions': 5,\n   'one_position_many_nodes': 10,\n   'edges': 10,\n   'edge_weights_factor': -1,\n   'edge_weights_cycles_factor': -1,\n   'non_edges': 10,\n   'invalid_traversal': 5,\n   'invalid_traversal_cycle': 5,\n   'invalid_traversal_self': 5}},\n {'2': {'positions': 'n',\n   'start_node_score': 5,\n   'diagonal': -10,\n   'one_node_many_positions': 5,\n   'one_position_many_nodes': 10,\n   'edges': 10,\n   'edge_weights_factor': -1,\n   'edge_weights_cycles_factor': -1,\n   'non_edges': 10,\n   'invalid_traversal': 5,\n   'invalid_traversal_cycle': 5,\n   'invalid_traversal_self': 5}},\n {'3': {'positions': 'colors',\n   'start_node_score': 5,\n   'terminal_node_score': -5,\n   'diagonal': -5,\n   'one_node_many_positions': 10,\n   'edge_weights_cycles_factor': 1,\n   'edge_weights_self_factor': 1,\n   'non_edges': 10,\n   'invalid_traversal': 5,\n   'invalid_traversal_self': 5}},\n {'3': {'positions': 'n',\n   'start_node_score': 5,\n   'terminal_node_score': -5,\n   'diagonal': -5,\n   'one_node_many_positions': 10,\n   'edge_weights_cycles_factor': 1,\n   'edge_weights_self_factor': 1,\n   'non_edges': 10,\n   'invalid_traversal': 5,\n   'invalid_traversal_self': 5}},\n {'4': {'positions': 'colors',\n   'start_node_score': 5,\n   'terminal_node_score': -5,\n   'diagonal': -10,\n   'one_position_many_nodes': 10,\n   'edge_weights_factor': -1,\n   'edge_weights_cycles_factor': -1,\n   'non_edges': 5,\n   'invalid_traversal': 5,\n   'invalid_traversal_cycle': 5,\n   'invalid_traversal_self': 5}},\n {'4': {'positions': 'n',\n   'start_node_score': 5,\n   'terminal_node_score': -5,\n   'diagonal': -10,\n   'one_position_many_nodes': 10,\n   'edge_weights_factor': -1,\n   'edge_weights_cycles_factor': -1,\n   'non_edges': 5,\n   'invalid_traversal': 5,\n   'invalid_traversal_cycle': 5,\n   'invalid_traversal_self': 5}},\n {'5': {'positions': 'colors',\n   'terminal_node_score': 5,\n   'diagonal': -10,\n   'one_node_many_positions': 5,\n   'one_position_many_nodes': 10,\n   'edges': 10,\n   'edge_weights_cycles_factor': 1,\n   'edge_weights_self_factor': -1,\n   'non_edges': 10,\n   'invalid_traversal_cycle': 5}},\n {'5': {'positions': 'n',\n   'terminal_node_score': 5,\n   'diagonal': -10,\n   'one_node_many_positions': 5,\n   'one_position_many_nodes': 10,\n   'edges': 10,\n   'edge_weights_cycles_factor': 1,\n   'edge_weights_self_factor': -1,\n   'non_edges': 10,\n   'invalid_traversal_cycle': 5}}]"
     },
     "execution_count": 44,
     "metadata": {},
     "output_type": "execute_result"
    }
   ],
   "source": [
    "from copy import deepcopy\n",
    "from random import choice\n",
    "\n",
    "# generate some non-positional optimizations\n",
    "number_of_non_positional_optimizations = 7\n",
    "np_opts = []\n",
    "for i in range(number_of_non_positional_optimizations):\n",
    "    np_opt = {\n",
    "        str(i): {\n",
    "            \"positions\": 1,\n",
    "            \"diagonal\": choice([-5, 5]),\n",
    "            \"nodes_with_edges\": choice([-5, 5, 10, None]),\n",
    "            \"edges\": choice([-5, 5, 10, None]),\n",
    "            \"non_edges\": choice([-5, 5, 10, None])\n",
    "        }\n",
    "    }\n",
    "\n",
    "    # remove any keys where None was selected\n",
    "    np_opts.append(\n",
    "        {k: {k2: value for k2, value in np_opt.get(k).items() if value is not None} for\n",
    "         k, _ in np_opt.items()}\n",
    "    )\n",
    "\n",
    "# generate some positional optimizations\n",
    "p_opts = []\n",
    "number_of_positional_optimizations = 6  # this will be doubled, once for pos=colors, once for pos=n\n",
    "for i in range(number_of_positional_optimizations):\n",
    "    p_opt_c = {\n",
    "        str(i): {\n",
    "            \"positions\": \"colors\",\n",
    "            \"start_node_score\": choice([-5, 5, None]),\n",
    "            \"terminal_node_score\": choice([-5, 5, None]),\n",
    "            \"diagonal\": choice([-5, 5, -10]),\n",
    "            \"one_node_many_positions\": choice([5, 10, None]),\n",
    "            \"one_position_many_nodes\": choice([5, 10, None]),\n",
    "            \"edges\": choice([5, 10, None]),\n",
    "            \"edge_weights_factor\": choice([-1, 1, None]),\n",
    "            \"edge_weights_cycles_factor\": choice([-1, 1, None]),\n",
    "            \"edge_weights_self_factor\": choice([-1, 1, None]),\n",
    "            \"non_edges\": choice([5, 10, None]),\n",
    "            \"invalid_traversal\": choice([5, None]),\n",
    "            \"invalid_traversal_cycle\": choice([5, None]),\n",
    "            \"invalid_traversal_self\": choice([5, None])\n",
    "        }\n",
    "    }\n",
    "    p_opt_n = deepcopy(p_opt_c)\n",
    "    p_opt_n[str(i)][\"positions\"] = \"n\"\n",
    "\n",
    "    p_opts.append(\n",
    "        {k: {k2: value for k2, value in p_opt_c.get(k).items() if value is not None} for\n",
    "         k, _ in p_opt_c.items()}\n",
    "    )\n",
    "    p_opts.append(\n",
    "        {k: {k2: value for k2, value in p_opt_n.get(k).items() if value is not None} for\n",
    "         k, _ in p_opt_n.items()}\n",
    "    )\n",
    "# These are saved manually to graph_optimizations.json\n",
    "np_opts + p_opts"
   ],
   "metadata": {
    "collapsed": false,
    "pycharm": {
     "name": "#%%\n"
    }
   }
  },
  {
   "cell_type": "markdown",
   "source": [
    "## Generate random graphs for experimentation"
   ],
   "metadata": {
    "collapsed": false,
    "pycharm": {
     "name": "#%% md\n"
    }
   }
  },
  {
   "cell_type": "code",
   "execution_count": 46,
   "outputs": [
    {
     "data": {
      "text/plain": "504"
     },
     "execution_count": 46,
     "metadata": {},
     "output_type": "execute_result"
    }
   ],
   "source": [
    "from random import randrange\n",
    "from typing import List\n",
    "\n",
    "from networkx import Graph\n",
    "\n",
    "graphs: List[Graph] = []\n",
    "\n",
    "graph_sizes = [4, 5, 6, 7, 8, 9, 10, 12, 14, 16, 18, 20]\n",
    "num_graph_per_size = 42\n",
    "\n",
    "for size in graph_sizes:\n",
    "    for i in range(num_graph_per_size):\n",
    "        graph = Graph()\n",
    "        num_edges = randrange(2, size * (\n",
    "                size - 2))  # rand in range of max number of possible edges\n",
    "        edges = []\n",
    "\n",
    "        for _ in range(num_edges):  # add random number of edges\n",
    "\n",
    "            u = randrange(size - 1)\n",
    "            v = randrange(size - 1)\n",
    "            w = randrange(1, 4)\n",
    "\n",
    "            if (u, v) not in [(u1, v1) for (u1, v1, _) in edges]:\n",
    "                edges.append((u, v, w))\n",
    "\n",
    "        for node in range(size):  # add an edge for any nodes not connected in the graph\n",
    "            if node not in [u for (u, _, _) in edges] and node not in [v for (_, v, _)\n",
    "                                                                       in edges]:\n",
    "                u = node\n",
    "                v = randrange(size - 1)\n",
    "                w = randrange(1, 4)\n",
    "\n",
    "                edges.append((u, v, w))\n",
    "\n",
    "        graph.add_weighted_edges_from(edges)\n",
    "        graphs.append(graph)\n",
    "\n",
    "len(graphs)"
   ],
   "metadata": {
    "collapsed": false,
    "pycharm": {
     "name": "#%%\n"
    }
   }
  },
  {
   "cell_type": "markdown",
   "source": [
    "## Save graphs for repeatability"
   ],
   "metadata": {
    "collapsed": false,
    "pycharm": {
     "name": "#%% md\n"
    }
   }
  },
  {
   "cell_type": "code",
   "execution_count": 47,
   "outputs": [],
   "source": [
    "import json\n",
    "from pathlib import Path\n",
    "\n",
    "from networkx import to_dict_of_dicts\n",
    "\n",
    "with open(Path(\"graphs.json\"), \"w\") as file:\n",
    "    json.dump(\n",
    "        {key: to_dict_of_dicts(value) for key, value in enumerate(graphs)}, file\n",
    "    )"
   ],
   "metadata": {
    "collapsed": false,
    "pycharm": {
     "name": "#%%\n"
    }
   }
  },
  {
   "cell_type": "markdown",
   "source": [
    "# Execute classical solving for graphs"
   ],
   "metadata": {
    "collapsed": false,
    "pycharm": {
     "name": "#%% md\n"
    }
   }
  },
  {
   "cell_type": "code",
   "execution_count": 50,
   "outputs": [],
   "source": [
    "from copy import deepcopy\n",
    "import json\n",
    "from pathlib import Path\n",
    "from bachelorthesis.graph_optimization import GraphOptimization\n",
    "\n",
    "from networkx import from_dict_of_dicts\n",
    "\n",
    "from bachelorthesis.solvers.qb_solv import solve as solve_qbs\n",
    "from bachelorthesis.solvers.repeated_simulated_annealing import solve as solve_rsa\n",
    "from bachelorthesis.solvers.simulated_annealing import solve as solve_sa\n",
    "from bachelorthesis.solvers.tabu_search import solve as solve_tbs\n",
    "\n",
    "with open(Path(\"graphs.json\"), \"r\") as graphs_file:\n",
    "    saved_graphs = json.load(graphs_file)\n",
    "\n",
    "with open(Path(\"graph_optimizations.json\"), \"r\") as g_opts_file:\n",
    "    optimization_parameters = json.load(g_opts_file)\n",
    "\n",
    "for graph_id, graph in saved_graphs.items():\n",
    "    # dict_of_dicts turns int keys into strings, this converts them back to ints\n",
    "    graph_data = {int(key): {int(key2): value for key2, value in graph.get(key).items()}\n",
    "                  for key, _ in graph.items()}\n",
    "    graph = from_dict_of_dicts(graph_data)\n",
    "\n",
    "    # create graph optimization\n",
    "    g_opt = GraphOptimization(graph=graph)\n",
    "    start_node = 0\n",
    "    terminal_node = graph.order() - 1\n",
    "\n",
    "    results = []\n",
    "\n",
    "    for params_id, params in optimization_parameters.items():\n",
    "        # allow positions in the json to take on a value of \"n\" for faster problem creation\n",
    "        params_copy = deepcopy(params)\n",
    "        pos = params_copy.pop(\"positions\")\n",
    "        if pos == \"n\":\n",
    "            pos = graph.order()\n",
    "        elif pos == \"colors\":\n",
    "            # TODO: this is completely arbitrary, does it make sense??\n",
    "            pos = graph.order() // 3\n",
    "\n",
    "        # generate qubo\n",
    "        qubo = g_opt.generate_qubo(\n",
    "            positions=pos,\n",
    "            start_node=start_node,\n",
    "            terminal_node=terminal_node,\n",
    "            **params_copy\n",
    "        )\n",
    "\n",
    "        # solve qubo and store result with all the relevant solvers\n",
    "\n",
    "        solution_qbs = solve_qbs(qubo)\n",
    "        solution_rsa = solve_rsa(qubo, num_repeats=10)\n",
    "        solution_sa = solve_sa(qubo)\n",
    "        solution_tbs = solve_tbs(qubo)\n",
    "\n",
    "        result_entry = {\n",
    "            \"graph_id\": graph_id,\n",
    "            \"params_id\": params_id,\n",
    "            \"qubo\": qubo.tolist(),\n",
    "            \"solution_qbs_sample\": solution_qbs[0][0].tolist(),\n",
    "            \"solution_qbs_energy\": solution_qbs[1].tolist()[0],\n",
    "            \"solution_rsa_sample\": solution_rsa[0][0].tolist(),\n",
    "            \"solution_rsa_energy\": solution_rsa[1].tolist()[0],\n",
    "            \"solution_sa_sample\": solution_sa[0][0].tolist(),\n",
    "            \"solution_sa_energy\": solution_sa[1].tolist()[0],\n",
    "            \"solution_tbs_sample\": solution_tbs[0][0].tolist(),\n",
    "            \"solution_tbs_energy\": solution_tbs[1].tolist()[0]\n",
    "        }\n",
    "        results.append(result_entry)\n",
    "\n",
    "    # store results per graph because i/o is relatively expensive\n",
    "    with open(Path(\"results.json\"), \"r\") as results_file_in:\n",
    "        current_results = json.load(results_file_in)\n",
    "        current_results.extend(results)\n",
    "    with open(Path(\"results.json\"), \"w\") as results_file_out:\n",
    "        json.dump(current_results, results_file_out)\n"
   ],
   "metadata": {
    "collapsed": false,
    "pycharm": {
     "name": "#%%\n"
    }
   }
  },
  {
   "cell_type": "markdown",
   "source": [
    "## Execute quantum solving for graphs"
   ],
   "metadata": {
    "collapsed": false,
    "pycharm": {
     "name": "#%% md\n"
    }
   }
  },
  {
   "cell_type": "code",
   "execution_count": 2,
   "outputs": [
    {
     "ename": "KeyboardInterrupt",
     "evalue": "",
     "output_type": "error",
     "traceback": [
      "\u001B[0;31m---------------------------------------------------------------------------\u001B[0m",
      "\u001B[0;31mKeyboardInterrupt\u001B[0m                         Traceback (most recent call last)",
      "Cell \u001B[0;32mIn [2], line 28\u001B[0m\n\u001B[1;32m     25\u001B[0m         qubo_dict[(i, j)] \u001B[38;5;241m=\u001B[39m value\n\u001B[1;32m     27\u001B[0m \u001B[38;5;66;03m# if no embedding is found, store that information, otherwise, solve and store\u001B[39;00m\n\u001B[0;32m---> 28\u001B[0m \u001B[38;5;28;01mif\u001B[39;00m \u001B[38;5;129;01mnot\u001B[39;00m \u001B[43mfind_embedding\u001B[49m\u001B[43m(\u001B[49m\u001B[43mqubo_dict\u001B[49m\u001B[43m)\u001B[49m:\n\u001B[1;32m     29\u001B[0m     quantum_result_entry \u001B[38;5;241m=\u001B[39m {\n\u001B[1;32m     30\u001B[0m         \u001B[38;5;124m\"\u001B[39m\u001B[38;5;124mgraph_id\u001B[39m\u001B[38;5;124m\"\u001B[39m: classical_result\u001B[38;5;241m.\u001B[39mget(\u001B[38;5;124m\"\u001B[39m\u001B[38;5;124mgraph_id\u001B[39m\u001B[38;5;124m\"\u001B[39m),\n\u001B[1;32m     31\u001B[0m         \u001B[38;5;124m\"\u001B[39m\u001B[38;5;124mparams_id\u001B[39m\u001B[38;5;124m\"\u001B[39m: classical_result\u001B[38;5;241m.\u001B[39mget(\u001B[38;5;124m\"\u001B[39m\u001B[38;5;124mparams_id\u001B[39m\u001B[38;5;124m\"\u001B[39m),\n\u001B[0;32m   (...)\u001B[0m\n\u001B[1;32m     34\u001B[0m         \u001B[38;5;124m\"\u001B[39m\u001B[38;5;124menergy\u001B[39m\u001B[38;5;124m\"\u001B[39m: \u001B[38;5;124m\"\u001B[39m\u001B[38;5;124mDNE\u001B[39m\u001B[38;5;124m\"\u001B[39m\n\u001B[1;32m     35\u001B[0m     }\n\u001B[1;32m     36\u001B[0m \u001B[38;5;28;01melse\u001B[39;00m:\n",
      "File \u001B[0;32m~/PycharmProjects/bachelor-thesis/bachelorthesis/solvers/quantum_annealer.py:55\u001B[0m, in \u001B[0;36mfind_embedding\u001B[0;34m(qubo)\u001B[0m\n\u001B[1;32m     50\u001B[0m \u001B[38;5;124;03m\"\"\"Find qubo embedding for quantum annealer\"\"\"\u001B[39;00m\n\u001B[1;32m     52\u001B[0m problem \u001B[38;5;241m=\u001B[39m (\n\u001B[1;32m     53\u001B[0m     Qubo(get_uqo_config(), qubo)\u001B[38;5;241m.\u001B[39mwith_platform(\u001B[38;5;124m\"\u001B[39m\u001B[38;5;124mdwave\u001B[39m\u001B[38;5;124m\"\u001B[39m)\u001B[38;5;241m.\u001B[39mwith_solver(\u001B[38;5;124m\"\u001B[39m\u001B[38;5;124mAdvantage_system4.1\u001B[39m\u001B[38;5;124m\"\u001B[39m)\n\u001B[1;32m     54\u001B[0m )\n\u001B[0;32m---> 55\u001B[0m \u001B[38;5;28;01mreturn\u001B[39;00m \u001B[43mproblem\u001B[49m\u001B[38;5;241;43m.\u001B[39;49m\u001B[43mfind_pegasus_embedding\u001B[49m\u001B[43m(\u001B[49m\u001B[43m)\u001B[49m\n",
      "File \u001B[0;32m~/PycharmProjects/bachelor-thesis/venv/lib/python3.9/site-packages/uqo/Problem.py:105\u001B[0m, in \u001B[0;36mProblem.find_pegasus_embedding\u001B[0;34m(self)\u001B[0m\n\u001B[1;32m    102\u001B[0m \u001B[38;5;28;01mdef\u001B[39;00m \u001B[38;5;21mfind_pegasus_embedding\u001B[39m(\u001B[38;5;28mself\u001B[39m):\n\u001B[1;32m    103\u001B[0m     \u001B[38;5;124;03m\"\"\"Call the connections find_chimera_embedding method to make a server request for finding a pegasus\u001B[39;00m\n\u001B[1;32m    104\u001B[0m \u001B[38;5;124;03m    embedding \"\"\"\u001B[39;00m\n\u001B[0;32m--> 105\u001B[0m     \u001B[38;5;28mself\u001B[39m\u001B[38;5;241m.\u001B[39membedding \u001B[38;5;241m=\u001B[39m \u001B[38;5;28;43mself\u001B[39;49m\u001B[38;5;241;43m.\u001B[39;49m\u001B[43mconnection\u001B[49m\u001B[38;5;241;43m.\u001B[39;49m\u001B[43mfind_pegasus_embedding\u001B[49m\u001B[43m(\u001B[49m\u001B[38;5;28;43mself\u001B[39;49m\u001B[43m)\u001B[49m\n\u001B[1;32m    106\u001B[0m     \u001B[38;5;28;01mreturn\u001B[39;00m \u001B[38;5;28mself\u001B[39m\u001B[38;5;241m.\u001B[39membedding\n",
      "File \u001B[0;32m~/PycharmProjects/bachelor-thesis/venv/lib/python3.9/site-packages/uqo/client/connection.py:187\u001B[0m, in \u001B[0;36mConnection.find_pegasus_embedding\u001B[0;34m(self, problem)\u001B[0m\n\u001B[1;32m    172\u001B[0m     \u001B[38;5;28;01mraise\u001B[39;00m \u001B[38;5;167;01mException\u001B[39;00m\n\u001B[1;32m    174\u001B[0m find_embedding_message \u001B[38;5;241m=\u001B[39m {\n\u001B[1;32m    175\u001B[0m     \u001B[38;5;124m\"\u001B[39m\u001B[38;5;124mauthentication\u001B[39m\u001B[38;5;124m\"\u001B[39m: \u001B[38;5;28mself\u001B[39m\u001B[38;5;241m.\u001B[39mget_authentication_message(),\n\u001B[1;32m    176\u001B[0m     \u001B[38;5;124m\"\u001B[39m\u001B[38;5;124mtask\u001B[39m\u001B[38;5;124m\"\u001B[39m: \u001B[38;5;124m\"\u001B[39m\u001B[38;5;124mutil\u001B[39m\u001B[38;5;124m\"\u001B[39m,\n\u001B[0;32m   (...)\u001B[0m\n\u001B[1;32m    184\u001B[0m     }\n\u001B[1;32m    185\u001B[0m }\n\u001B[0;32m--> 187\u001B[0m answer \u001B[38;5;241m=\u001B[39m \u001B[38;5;28;43mself\u001B[39;49m\u001B[38;5;241;43m.\u001B[39;49m\u001B[43msend_message\u001B[49m\u001B[43m(\u001B[49m\u001B[43mfind_embedding_message\u001B[49m\u001B[43m)\u001B[49m\n\u001B[1;32m    188\u001B[0m embedding_stringed \u001B[38;5;241m=\u001B[39m answer[\u001B[38;5;124m\"\u001B[39m\u001B[38;5;124msolver_details\u001B[39m\u001B[38;5;124m\"\u001B[39m][\u001B[38;5;124m\"\u001B[39m\u001B[38;5;124membedding\u001B[39m\u001B[38;5;124m\"\u001B[39m]\n\u001B[1;32m    190\u001B[0m embedding \u001B[38;5;241m=\u001B[39m {}\n",
      "File \u001B[0;32m~/PycharmProjects/bachelor-thesis/venv/lib/python3.9/site-packages/uqo/client/connection.py:408\u001B[0m, in \u001B[0;36mConnection.send_message\u001B[0;34m(self, message)\u001B[0m\n\u001B[1;32m    405\u001B[0m json_message \u001B[38;5;241m=\u001B[39m \u001B[38;5;28mself\u001B[39m\u001B[38;5;241m.\u001B[39mto_json(message)  \u001B[38;5;66;03m# convert message into json object\u001B[39;00m\n\u001B[1;32m    406\u001B[0m socket\u001B[38;5;241m.\u001B[39msend_json(json_message)  \u001B[38;5;66;03m# send message\u001B[39;00m\n\u001B[0;32m--> 408\u001B[0m answer \u001B[38;5;241m=\u001B[39m \u001B[43msocket\u001B[49m\u001B[38;5;241;43m.\u001B[39;49m\u001B[43mrecv_json\u001B[49m\u001B[43m(\u001B[49m\u001B[43m)\u001B[49m  \u001B[38;5;66;03m# wait for response\u001B[39;00m\n\u001B[1;32m    409\u001B[0m \u001B[38;5;28mself\u001B[39m\u001B[38;5;241m.\u001B[39mcheck_errors(answer)\n\u001B[1;32m    410\u001B[0m \u001B[38;5;28;01mreturn\u001B[39;00m answer\n",
      "File \u001B[0;32m~/PycharmProjects/bachelor-thesis/venv/lib/python3.9/site-packages/zmq/sugar/socket.py:781\u001B[0m, in \u001B[0;36mSocket.recv_json\u001B[0;34m(self, flags, **kwargs)\u001B[0m\n\u001B[1;32m    761\u001B[0m \u001B[38;5;28;01mdef\u001B[39;00m \u001B[38;5;21mrecv_json\u001B[39m(\u001B[38;5;28mself\u001B[39m, flags\u001B[38;5;241m=\u001B[39m\u001B[38;5;241m0\u001B[39m, \u001B[38;5;241m*\u001B[39m\u001B[38;5;241m*\u001B[39mkwargs):\n\u001B[1;32m    762\u001B[0m     \u001B[38;5;124;03m\"\"\"Receive a Python object as a message using json to serialize.\u001B[39;00m\n\u001B[1;32m    763\u001B[0m \n\u001B[1;32m    764\u001B[0m \u001B[38;5;124;03m    Keyword arguments are passed on to json.loads\u001B[39;00m\n\u001B[0;32m   (...)\u001B[0m\n\u001B[1;32m    779\u001B[0m \u001B[38;5;124;03m        for any of the reasons :func:`~Socket.recv` might fail\u001B[39;00m\n\u001B[1;32m    780\u001B[0m \u001B[38;5;124;03m    \"\"\"\u001B[39;00m\n\u001B[0;32m--> 781\u001B[0m     msg \u001B[38;5;241m=\u001B[39m \u001B[38;5;28;43mself\u001B[39;49m\u001B[38;5;241;43m.\u001B[39;49m\u001B[43mrecv\u001B[49m\u001B[43m(\u001B[49m\u001B[43mflags\u001B[49m\u001B[43m)\u001B[49m\n\u001B[1;32m    782\u001B[0m     \u001B[38;5;28;01mreturn\u001B[39;00m \u001B[38;5;28mself\u001B[39m\u001B[38;5;241m.\u001B[39m_deserialize(msg, \u001B[38;5;28;01mlambda\u001B[39;00m buf: jsonapi\u001B[38;5;241m.\u001B[39mloads(buf, \u001B[38;5;241m*\u001B[39m\u001B[38;5;241m*\u001B[39mkwargs))\n",
      "File \u001B[0;32mzmq/backend/cython/socket.pyx:781\u001B[0m, in \u001B[0;36mzmq.backend.cython.socket.Socket.recv\u001B[0;34m()\u001B[0m\n",
      "File \u001B[0;32mzmq/backend/cython/socket.pyx:817\u001B[0m, in \u001B[0;36mzmq.backend.cython.socket.Socket.recv\u001B[0;34m()\u001B[0m\n",
      "File \u001B[0;32mzmq/backend/cython/socket.pyx:186\u001B[0m, in \u001B[0;36mzmq.backend.cython.socket._recv_copy\u001B[0;34m()\u001B[0m\n",
      "File \u001B[0;32m~/PycharmProjects/bachelor-thesis/venv/lib/python3.9/site-packages/zmq/backend/cython/checkrc.pxd:13\u001B[0m, in \u001B[0;36mzmq.backend.cython.checkrc._check_rc\u001B[0;34m()\u001B[0m\n",
      "\u001B[0;31mKeyboardInterrupt\u001B[0m: "
     ]
    }
   ],
   "source": [
    "import json\n",
    "from pathlib import Path\n",
    "\n",
    "from bachelorthesis.solvers.quantum_annealer import solve as solve_quantum, \\\n",
    "    find_embedding\n",
    "\n",
    "with open(Path(\"results.json\"), \"r\") as results_file:\n",
    "    classical_results = json.load(results_file)\n",
    "\n",
    "best_graph = 46\n",
    "best_params = 1\n",
    "\n",
    "for classical_result in classical_results:\n",
    "\n",
    "    graph = classical_result.get(\"graph_id\")\n",
    "    params = classical_result.get(\"params_id\")\n",
    "\n",
    "    if (int(graph) == best_graph and int(params) > best_params) or (int(graph) > best_graph):\n",
    "        qubo = classical_result.get(\"qubo\")\n",
    "\n",
    "        # convert list of list qubo format to dictionary for uqo service\n",
    "        qubo_dict = {}\n",
    "        for i, inner_list in enumerate(qubo):\n",
    "            for j, value in enumerate(inner_list):\n",
    "                qubo_dict[(i, j)] = value\n",
    "\n",
    "        # if no embedding is found, store that information, otherwise, solve and store\n",
    "        if not find_embedding(qubo_dict):\n",
    "            quantum_result_entry = {\n",
    "                \"graph_id\": classical_result.get(\"graph_id\"),\n",
    "                \"params_id\": classical_result.get(\"params_id\"),\n",
    "                \"qubo_size\": len(qubo),\n",
    "                \"solution_sample\": \"DNE\",\n",
    "                \"energy\": \"DNE\"\n",
    "            }\n",
    "        else:\n",
    "            sample, energy = solve_quantum(qubo_dict, repeats=1)\n",
    "\n",
    "            quantum_result_entry = {\n",
    "                \"graph_id\": classical_result.get(\"graph_id\"),\n",
    "                \"params_id\": classical_result.get(\"params_id\"),\n",
    "                \"qubo_size\": len(qubo),\n",
    "                \"solution_sample\": sample,\n",
    "                \"energy\": int(energy)\n",
    "            }\n",
    "\n",
    "        # store results per graph because i/o is relatively expensive\n",
    "        with open(Path(\"results_quantum.json\"), \"r\") as results_file_in:\n",
    "            current_results = json.load(results_file_in)\n",
    "            current_results.append(quantum_result_entry)\n",
    "        with open(Path(\"results_quantum.json\"), \"w\") as results_file_out:\n",
    "            json.dump(current_results, results_file_out)"
   ],
   "metadata": {
    "collapsed": false,
    "pycharm": {
     "name": "#%%\n"
    }
   }
  },
  {
   "cell_type": "code",
   "execution_count": 8,
   "outputs": [
    {
     "name": "stdout",
     "output_type": "stream",
     "text": [
      "IDX: 43, 25\n",
      "QSZ: 25\n",
      "EMB: success, took 0.0 minutes, 4.695299 seconds\n"
     ]
    },
    {
     "ename": "KeyboardInterrupt",
     "evalue": "",
     "output_type": "error",
     "traceback": [
      "\u001B[0;31m---------------------------------------------------------------------------\u001B[0m",
      "\u001B[0;31mKeyboardInterrupt\u001B[0m                         Traceback (most recent call last)",
      "Cell \u001B[0;32mIn [8], line 51\u001B[0m\n\u001B[1;32m     49\u001B[0m duration \u001B[38;5;241m=\u001B[39m \u001B[38;5;28mdivmod\u001B[39m(duration\u001B[38;5;241m.\u001B[39mtotal_seconds(), \u001B[38;5;241m60\u001B[39m)\n\u001B[1;32m     50\u001B[0m \u001B[38;5;28mprint\u001B[39m(\u001B[38;5;124mf\u001B[39m\u001B[38;5;124m\"\u001B[39m\u001B[38;5;124mEMB: success, took \u001B[39m\u001B[38;5;132;01m{\u001B[39;00mduration[\u001B[38;5;241m0\u001B[39m]\u001B[38;5;132;01m}\u001B[39;00m\u001B[38;5;124m minutes, \u001B[39m\u001B[38;5;132;01m{\u001B[39;00mduration[\u001B[38;5;241m1\u001B[39m]\u001B[38;5;132;01m}\u001B[39;00m\u001B[38;5;124m seconds\u001B[39m\u001B[38;5;124m\"\u001B[39m)\n\u001B[0;32m---> 51\u001B[0m sample, energy \u001B[38;5;241m=\u001B[39m \u001B[43msolve_quantum\u001B[49m\u001B[43m(\u001B[49m\u001B[43mqubo_dict\u001B[49m\u001B[43m,\u001B[49m\u001B[43m \u001B[49m\u001B[43mrepeats\u001B[49m\u001B[38;5;241;43m=\u001B[39;49m\u001B[38;5;241;43m10\u001B[39;49m\u001B[43m)\u001B[49m\n\u001B[1;32m     53\u001B[0m quantum_result_entry \u001B[38;5;241m=\u001B[39m {\n\u001B[1;32m     54\u001B[0m     \u001B[38;5;124m\"\u001B[39m\u001B[38;5;124mgraph_id\u001B[39m\u001B[38;5;124m\"\u001B[39m: classical_result\u001B[38;5;241m.\u001B[39mget(\u001B[38;5;124m\"\u001B[39m\u001B[38;5;124mgraph_id\u001B[39m\u001B[38;5;124m\"\u001B[39m),\n\u001B[1;32m     55\u001B[0m     \u001B[38;5;124m\"\u001B[39m\u001B[38;5;124mparams_id\u001B[39m\u001B[38;5;124m\"\u001B[39m: classical_result\u001B[38;5;241m.\u001B[39mget(\u001B[38;5;124m\"\u001B[39m\u001B[38;5;124mparams_id\u001B[39m\u001B[38;5;124m\"\u001B[39m),\n\u001B[0;32m   (...)\u001B[0m\n\u001B[1;32m     58\u001B[0m     \u001B[38;5;124m\"\u001B[39m\u001B[38;5;124menergy\u001B[39m\u001B[38;5;124m\"\u001B[39m: \u001B[38;5;28mint\u001B[39m(energy)\n\u001B[1;32m     59\u001B[0m }\n\u001B[1;32m     61\u001B[0m \u001B[38;5;28mprint\u001B[39m(\u001B[38;5;124mf\u001B[39m\u001B[38;5;124m\"\u001B[39m\u001B[38;5;124mSLV: complete\u001B[39m\u001B[38;5;124m\"\u001B[39m)\n",
      "File \u001B[0;32m~/PycharmProjects/bachelor-thesis/bachelorthesis/solvers/quantum_annealer.py:43\u001B[0m, in \u001B[0;36msolve\u001B[0;34m(qubo, **kwargs)\u001B[0m\n\u001B[1;32m     37\u001B[0m \u001B[38;5;124;03m\"\"\"Solve a qubo with quantum annealing\"\"\"\u001B[39;00m\n\u001B[1;32m     39\u001B[0m problem \u001B[38;5;241m=\u001B[39m (\n\u001B[1;32m     40\u001B[0m     Qubo(get_uqo_config(), qubo)\u001B[38;5;241m.\u001B[39mwith_platform(\u001B[38;5;124m\"\u001B[39m\u001B[38;5;124mdwave\u001B[39m\u001B[38;5;124m\"\u001B[39m)\u001B[38;5;241m.\u001B[39mwith_solver(\u001B[38;5;124m\"\u001B[39m\u001B[38;5;124mAdvantage_system4.1\u001B[39m\u001B[38;5;124m\"\u001B[39m)\n\u001B[1;32m     41\u001B[0m )\n\u001B[0;32m---> 43\u001B[0m result \u001B[38;5;241m=\u001B[39m \u001B[43mproblem\u001B[49m\u001B[38;5;241;43m.\u001B[39;49m\u001B[43msolve\u001B[49m\u001B[43m(\u001B[49m\u001B[43mtimes\u001B[49m\u001B[38;5;241;43m=\u001B[39;49m\u001B[43mkwargs\u001B[49m\u001B[38;5;241;43m.\u001B[39;49m\u001B[43mget\u001B[49m\u001B[43m(\u001B[49m\u001B[38;5;124;43m\"\u001B[39;49m\u001B[38;5;124;43mrepeats\u001B[39;49m\u001B[38;5;124;43m\"\u001B[39;49m\u001B[43m,\u001B[49m\u001B[43m \u001B[49m\u001B[38;5;241;43m1\u001B[39;49m\u001B[43m)\u001B[49m\u001B[43m)\u001B[49m\u001B[38;5;241m.\u001B[39msampleset\u001B[38;5;241m.\u001B[39mfirst\n\u001B[1;32m     44\u001B[0m sample \u001B[38;5;241m=\u001B[39m [\u001B[38;5;28mint\u001B[39m(binary) \u001B[38;5;28;01mfor\u001B[39;00m _, binary \u001B[38;5;129;01min\u001B[39;00m result[\u001B[38;5;241m0\u001B[39m]\u001B[38;5;241m.\u001B[39mitems()]\n\u001B[1;32m     45\u001B[0m energy \u001B[38;5;241m=\u001B[39m result[\u001B[38;5;241m1\u001B[39m]\n",
      "File \u001B[0;32m~/PycharmProjects/bachelor-thesis/venv/lib/python3.9/site-packages/uqo/Problem.py:144\u001B[0m, in \u001B[0;36mProblem.solve\u001B[0;34m(self, times)\u001B[0m\n\u001B[1;32m    141\u001B[0m     \u001B[38;5;28mself\u001B[39m\u001B[38;5;241m.\u001B[39mconnection\u001B[38;5;241m.\u001B[39mset_preferred_platform(\u001B[38;5;28mself\u001B[39m\u001B[38;5;241m.\u001B[39mplatform)\n\u001B[1;32m    143\u001B[0m \u001B[38;5;28;01mif\u001B[39;00m \u001B[38;5;28misinstance\u001B[39m(\u001B[38;5;28mself\u001B[39m, Qubo):\n\u001B[0;32m--> 144\u001B[0m     \u001B[38;5;28;01mreturn\u001B[39;00m \u001B[38;5;28;43mself\u001B[39;49m\u001B[38;5;241;43m.\u001B[39;49m\u001B[43mconnection\u001B[49m\u001B[38;5;241;43m.\u001B[39;49m\u001B[43msolve_qubo\u001B[49m\u001B[43m(\u001B[49m\u001B[38;5;28;43mself\u001B[39;49m\u001B[43m)\u001B[49m\n\u001B[1;32m    145\u001B[0m \u001B[38;5;28;01mif\u001B[39;00m \u001B[38;5;28misinstance\u001B[39m(\u001B[38;5;28mself\u001B[39m, Ising):\n\u001B[1;32m    146\u001B[0m     \u001B[38;5;28;01mreturn\u001B[39;00m \u001B[38;5;28mself\u001B[39m\u001B[38;5;241m.\u001B[39mconnection\u001B[38;5;241m.\u001B[39msolve_ising(\u001B[38;5;28mself\u001B[39m)\n",
      "File \u001B[0;32m~/PycharmProjects/bachelor-thesis/venv/lib/python3.9/site-packages/uqo/client/connection.py:242\u001B[0m, in \u001B[0;36mConnection.solve_qubo\u001B[0;34m(self, problem)\u001B[0m\n\u001B[1;32m    234\u001B[0m \u001B[38;5;28;01melse\u001B[39;00m:\n\u001B[1;32m    236\u001B[0m     solve_message \u001B[38;5;241m=\u001B[39m {\n\u001B[1;32m    237\u001B[0m         \u001B[38;5;124m\"\u001B[39m\u001B[38;5;124mauthentication\u001B[39m\u001B[38;5;124m\"\u001B[39m: \u001B[38;5;28mself\u001B[39m\u001B[38;5;241m.\u001B[39mget_authentication_message(),\n\u001B[1;32m    238\u001B[0m         \u001B[38;5;124m\"\u001B[39m\u001B[38;5;124mtask_details\u001B[39m\u001B[38;5;124m\"\u001B[39m: \u001B[38;5;28mself\u001B[39m\u001B[38;5;241m.\u001B[39mget_task_details_message(problem),\n\u001B[1;32m    239\u001B[0m         \u001B[38;5;124m\"\u001B[39m\u001B[38;5;124mtask\u001B[39m\u001B[38;5;124m\"\u001B[39m: \u001B[38;5;124m\"\u001B[39m\u001B[38;5;124msolve\u001B[39m\u001B[38;5;124m\"\u001B[39m \u001B[38;5;28;01mif\u001B[39;00m \u001B[38;5;28mself\u001B[39m\u001B[38;5;241m.\u001B[39mtask \u001B[38;5;129;01mis\u001B[39;00m \u001B[38;5;28;01mNone\u001B[39;00m \u001B[38;5;28;01melse\u001B[39;00m \u001B[38;5;28mself\u001B[39m\u001B[38;5;241m.\u001B[39mtask,\n\u001B[1;32m    240\u001B[0m     }\n\u001B[0;32m--> 242\u001B[0m     answer \u001B[38;5;241m=\u001B[39m \u001B[38;5;28;43mself\u001B[39;49m\u001B[38;5;241;43m.\u001B[39;49m\u001B[43msend_message\u001B[49m\u001B[43m(\u001B[49m\u001B[43msolve_message\u001B[49m\u001B[43m)\u001B[49m\n\u001B[1;32m    244\u001B[0m     \u001B[38;5;28;01mif\u001B[39;00m answer[\u001B[38;5;124m\"\u001B[39m\u001B[38;5;124mstatus\u001B[39m\u001B[38;5;124m\"\u001B[39m] \u001B[38;5;241m==\u001B[39m \u001B[38;5;124m\"\u001B[39m\u001B[38;5;124msuccess\u001B[39m\u001B[38;5;124m\"\u001B[39m:\n\u001B[1;32m    245\u001B[0m         \u001B[38;5;28;01mif\u001B[39;00m answer[\u001B[38;5;124m\"\u001B[39m\u001B[38;5;124msolver\u001B[39m\u001B[38;5;124m\"\u001B[39m] \u001B[38;5;241m==\u001B[39m \u001B[38;5;124m\"\u001B[39m\u001B[38;5;124mQBsolvSolver\u001B[39m\u001B[38;5;124m\"\u001B[39m:\n",
      "File \u001B[0;32m~/PycharmProjects/bachelor-thesis/venv/lib/python3.9/site-packages/uqo/client/connection.py:408\u001B[0m, in \u001B[0;36mConnection.send_message\u001B[0;34m(self, message)\u001B[0m\n\u001B[1;32m    405\u001B[0m json_message \u001B[38;5;241m=\u001B[39m \u001B[38;5;28mself\u001B[39m\u001B[38;5;241m.\u001B[39mto_json(message)  \u001B[38;5;66;03m# convert message into json object\u001B[39;00m\n\u001B[1;32m    406\u001B[0m socket\u001B[38;5;241m.\u001B[39msend_json(json_message)  \u001B[38;5;66;03m# send message\u001B[39;00m\n\u001B[0;32m--> 408\u001B[0m answer \u001B[38;5;241m=\u001B[39m \u001B[43msocket\u001B[49m\u001B[38;5;241;43m.\u001B[39;49m\u001B[43mrecv_json\u001B[49m\u001B[43m(\u001B[49m\u001B[43m)\u001B[49m  \u001B[38;5;66;03m# wait for response\u001B[39;00m\n\u001B[1;32m    409\u001B[0m \u001B[38;5;28mself\u001B[39m\u001B[38;5;241m.\u001B[39mcheck_errors(answer)\n\u001B[1;32m    410\u001B[0m \u001B[38;5;28;01mreturn\u001B[39;00m answer\n",
      "File \u001B[0;32m~/PycharmProjects/bachelor-thesis/venv/lib/python3.9/site-packages/zmq/sugar/socket.py:781\u001B[0m, in \u001B[0;36mSocket.recv_json\u001B[0;34m(self, flags, **kwargs)\u001B[0m\n\u001B[1;32m    761\u001B[0m \u001B[38;5;28;01mdef\u001B[39;00m \u001B[38;5;21mrecv_json\u001B[39m(\u001B[38;5;28mself\u001B[39m, flags\u001B[38;5;241m=\u001B[39m\u001B[38;5;241m0\u001B[39m, \u001B[38;5;241m*\u001B[39m\u001B[38;5;241m*\u001B[39mkwargs):\n\u001B[1;32m    762\u001B[0m     \u001B[38;5;124;03m\"\"\"Receive a Python object as a message using json to serialize.\u001B[39;00m\n\u001B[1;32m    763\u001B[0m \n\u001B[1;32m    764\u001B[0m \u001B[38;5;124;03m    Keyword arguments are passed on to json.loads\u001B[39;00m\n\u001B[0;32m   (...)\u001B[0m\n\u001B[1;32m    779\u001B[0m \u001B[38;5;124;03m        for any of the reasons :func:`~Socket.recv` might fail\u001B[39;00m\n\u001B[1;32m    780\u001B[0m \u001B[38;5;124;03m    \"\"\"\u001B[39;00m\n\u001B[0;32m--> 781\u001B[0m     msg \u001B[38;5;241m=\u001B[39m \u001B[38;5;28;43mself\u001B[39;49m\u001B[38;5;241;43m.\u001B[39;49m\u001B[43mrecv\u001B[49m\u001B[43m(\u001B[49m\u001B[43mflags\u001B[49m\u001B[43m)\u001B[49m\n\u001B[1;32m    782\u001B[0m     \u001B[38;5;28;01mreturn\u001B[39;00m \u001B[38;5;28mself\u001B[39m\u001B[38;5;241m.\u001B[39m_deserialize(msg, \u001B[38;5;28;01mlambda\u001B[39;00m buf: jsonapi\u001B[38;5;241m.\u001B[39mloads(buf, \u001B[38;5;241m*\u001B[39m\u001B[38;5;241m*\u001B[39mkwargs))\n",
      "File \u001B[0;32mzmq/backend/cython/socket.pyx:781\u001B[0m, in \u001B[0;36mzmq.backend.cython.socket.Socket.recv\u001B[0;34m()\u001B[0m\n",
      "File \u001B[0;32mzmq/backend/cython/socket.pyx:817\u001B[0m, in \u001B[0;36mzmq.backend.cython.socket.Socket.recv\u001B[0;34m()\u001B[0m\n",
      "File \u001B[0;32mzmq/backend/cython/socket.pyx:186\u001B[0m, in \u001B[0;36mzmq.backend.cython.socket._recv_copy\u001B[0;34m()\u001B[0m\n",
      "File \u001B[0;32m~/PycharmProjects/bachelor-thesis/venv/lib/python3.9/site-packages/zmq/backend/cython/checkrc.pxd:13\u001B[0m, in \u001B[0;36mzmq.backend.cython.checkrc._check_rc\u001B[0;34m()\u001B[0m\n",
      "\u001B[0;31mKeyboardInterrupt\u001B[0m: "
     ]
    }
   ],
   "source": [
    "import datetime\n",
    "import json\n",
    "from pathlib import Path\n",
    "\n",
    "from bachelorthesis.solvers.quantum_annealer import solve as solve_quantum, \\\n",
    "    find_embedding\n",
    "\n",
    "with open(Path(\"results.json\"), \"r\") as results_file:\n",
    "    classical_results = json.load(results_file)\n",
    "\n",
    "best_graph = 43\n",
    "best_params = 24\n",
    "\n",
    "result_batch = []\n",
    "for i, classical_result in enumerate(classical_results):\n",
    "\n",
    "    graph = classical_result.get(\"graph_id\")\n",
    "    params = classical_result.get(\"params_id\")\n",
    "\n",
    "\n",
    "    if (int(graph) == best_graph and int(params) > best_params) or (int(graph) > best_graph):\n",
    "        print(f\"IDX: {graph}, {params}\")\n",
    "\n",
    "        qubo = classical_result.get(\"qubo\")\n",
    "        qubo_size = len(qubo)\n",
    "\n",
    "        # convert list of list qubo format to dictionary for uqo service\n",
    "        qubo_dict = {}\n",
    "        for k, inner_list in enumerate(qubo):\n",
    "            for j, value in enumerate(inner_list):\n",
    "                qubo_dict[(k, j)] = value\n",
    "\n",
    "        print(f\"QSZ: {qubo_size}\")\n",
    "        before = datetime.datetime.now()\n",
    "\n",
    "        # if no embedding is found, store that information, otherwise, solve and store\n",
    "        if not find_embedding(qubo_dict):\n",
    "            print(f\"EMB: failed\")\n",
    "            quantum_result_entry = {\n",
    "                \"graph_id\": classical_result.get(\"graph_id\"),\n",
    "                \"params_id\": classical_result.get(\"params_id\"),\n",
    "                \"qubo_size\": qubo_size,\n",
    "                \"solution_sample\": \"DNE\",\n",
    "                \"energy\": \"DNE\"\n",
    "            }\n",
    "        else:\n",
    "            after = datetime.datetime.now()\n",
    "            duration = after - before\n",
    "            duration = divmod(duration.total_seconds(), 60)\n",
    "            print(f\"EMB: success, took {duration[0]} minutes, {duration[1]} seconds\")\n",
    "            sample, energy = solve_quantum(qubo_dict, repeats=10)\n",
    "\n",
    "            quantum_result_entry = {\n",
    "                \"graph_id\": classical_result.get(\"graph_id\"),\n",
    "                \"params_id\": classical_result.get(\"params_id\"),\n",
    "                \"qubo_size\": qubo_size,\n",
    "                \"solution_sample\": sample,\n",
    "                \"energy\": int(energy)\n",
    "            }\n",
    "\n",
    "            print(f\"SLV: complete\")\n",
    "\n",
    "        if i % 20 != 0:\n",
    "            result_batch.append(quantum_result_entry)\n",
    "        else:\n",
    "            result_batch.append(quantum_result_entry)\n",
    "            # store results per graph because i/o is relatively expensive\n",
    "            with open(Path(\"results_quantum.json\"), \"r\") as results_file_in:\n",
    "                current_results = json.load(results_file_in)\n",
    "                current_results.extend(result_batch)\n",
    "            with open(Path(\"results_quantum.json\"), \"w\") as results_file_out:\n",
    "                json.dump(current_results, results_file_out)\n",
    "            result_batch.clear()"
   ],
   "metadata": {
    "collapsed": false,
    "pycharm": {
     "name": "#%%\n"
    }
   }
  },
  {
   "cell_type": "code",
   "execution_count": null,
   "outputs": [],
   "source": [],
   "metadata": {
    "collapsed": false,
    "pycharm": {
     "name": "#%%\n"
    }
   }
  }
 ],
 "metadata": {
  "kernelspec": {
   "display_name": "Python 3",
   "language": "python",
   "name": "python3"
  },
  "language_info": {
   "codemirror_mode": {
    "name": "ipython",
    "version": 2
   },
   "file_extension": ".py",
   "mimetype": "text/x-python",
   "name": "python",
   "nbconvert_exporter": "python",
   "pygments_lexer": "ipython2",
   "version": "2.7.6"
  }
 },
 "nbformat": 4,
 "nbformat_minor": 0
}