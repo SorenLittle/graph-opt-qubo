{
 "cells": [
  {
   "cell_type": "markdown",
   "source": [
    "## Generate parameter set for graph optimizations"
   ],
   "metadata": {
    "collapsed": false,
    "pycharm": {
     "name": "#%% md\n"
    }
   }
  },
  {
   "cell_type": "code",
   "execution_count": 44,
   "outputs": [
    {
     "data": {
      "text/plain": "[{'0': {'positions': 1, 'diagonal': 5, 'non_edges': -5}},\n {'1': {'positions': 1,\n   'diagonal': -5,\n   'nodes_with_edges': -5,\n   'edges': 10,\n   'non_edges': -5}},\n {'2': {'positions': 1, 'diagonal': 5}},\n {'3': {'positions': 1,\n   'diagonal': 5,\n   'nodes_with_edges': 10,\n   'edges': 10,\n   'non_edges': 10}},\n {'4': {'positions': 1, 'diagonal': -5, 'nodes_with_edges': 10}},\n {'5': {'positions': 1, 'diagonal': 5, 'nodes_with_edges': -5, 'edges': -5}},\n {'6': {'positions': 1,\n   'diagonal': -5,\n   'nodes_with_edges': 5,\n   'non_edges': -5}},\n {'0': {'positions': 'colors',\n   'start_node_score': -5,\n   'terminal_node_score': -5,\n   'diagonal': -10,\n   'one_node_many_positions': 5,\n   'one_position_many_nodes': 10,\n   'edges': 5,\n   'edge_weights_factor': 1,\n   'edge_weights_cycles_factor': -1,\n   'edge_weights_self_factor': 1}},\n {'0': {'positions': 'n',\n   'start_node_score': -5,\n   'terminal_node_score': -5,\n   'diagonal': -10,\n   'one_node_many_positions': 5,\n   'one_position_many_nodes': 10,\n   'edges': 5,\n   'edge_weights_factor': 1,\n   'edge_weights_cycles_factor': -1,\n   'edge_weights_self_factor': 1}},\n {'1': {'positions': 'colors',\n   'terminal_node_score': -5,\n   'diagonal': 5,\n   'one_position_many_nodes': 5,\n   'edges': 10,\n   'edge_weights_factor': -1,\n   'edge_weights_cycles_factor': 1,\n   'edge_weights_self_factor': 1,\n   'non_edges': 5,\n   'invalid_traversal': 5,\n   'invalid_traversal_cycle': 5,\n   'invalid_traversal_self': 5}},\n {'1': {'positions': 'n',\n   'terminal_node_score': -5,\n   'diagonal': 5,\n   'one_position_many_nodes': 5,\n   'edges': 10,\n   'edge_weights_factor': -1,\n   'edge_weights_cycles_factor': 1,\n   'edge_weights_self_factor': 1,\n   'non_edges': 5,\n   'invalid_traversal': 5,\n   'invalid_traversal_cycle': 5,\n   'invalid_traversal_self': 5}},\n {'2': {'positions': 'colors',\n   'start_node_score': 5,\n   'diagonal': -10,\n   'one_node_many_positions': 5,\n   'one_position_many_nodes': 10,\n   'edges': 10,\n   'edge_weights_factor': -1,\n   'edge_weights_cycles_factor': -1,\n   'non_edges': 10,\n   'invalid_traversal': 5,\n   'invalid_traversal_cycle': 5,\n   'invalid_traversal_self': 5}},\n {'2': {'positions': 'n',\n   'start_node_score': 5,\n   'diagonal': -10,\n   'one_node_many_positions': 5,\n   'one_position_many_nodes': 10,\n   'edges': 10,\n   'edge_weights_factor': -1,\n   'edge_weights_cycles_factor': -1,\n   'non_edges': 10,\n   'invalid_traversal': 5,\n   'invalid_traversal_cycle': 5,\n   'invalid_traversal_self': 5}},\n {'3': {'positions': 'colors',\n   'start_node_score': 5,\n   'terminal_node_score': -5,\n   'diagonal': -5,\n   'one_node_many_positions': 10,\n   'edge_weights_cycles_factor': 1,\n   'edge_weights_self_factor': 1,\n   'non_edges': 10,\n   'invalid_traversal': 5,\n   'invalid_traversal_self': 5}},\n {'3': {'positions': 'n',\n   'start_node_score': 5,\n   'terminal_node_score': -5,\n   'diagonal': -5,\n   'one_node_many_positions': 10,\n   'edge_weights_cycles_factor': 1,\n   'edge_weights_self_factor': 1,\n   'non_edges': 10,\n   'invalid_traversal': 5,\n   'invalid_traversal_self': 5}},\n {'4': {'positions': 'colors',\n   'start_node_score': 5,\n   'terminal_node_score': -5,\n   'diagonal': -10,\n   'one_position_many_nodes': 10,\n   'edge_weights_factor': -1,\n   'edge_weights_cycles_factor': -1,\n   'non_edges': 5,\n   'invalid_traversal': 5,\n   'invalid_traversal_cycle': 5,\n   'invalid_traversal_self': 5}},\n {'4': {'positions': 'n',\n   'start_node_score': 5,\n   'terminal_node_score': -5,\n   'diagonal': -10,\n   'one_position_many_nodes': 10,\n   'edge_weights_factor': -1,\n   'edge_weights_cycles_factor': -1,\n   'non_edges': 5,\n   'invalid_traversal': 5,\n   'invalid_traversal_cycle': 5,\n   'invalid_traversal_self': 5}},\n {'5': {'positions': 'colors',\n   'terminal_node_score': 5,\n   'diagonal': -10,\n   'one_node_many_positions': 5,\n   'one_position_many_nodes': 10,\n   'edges': 10,\n   'edge_weights_cycles_factor': 1,\n   'edge_weights_self_factor': -1,\n   'non_edges': 10,\n   'invalid_traversal_cycle': 5}},\n {'5': {'positions': 'n',\n   'terminal_node_score': 5,\n   'diagonal': -10,\n   'one_node_many_positions': 5,\n   'one_position_many_nodes': 10,\n   'edges': 10,\n   'edge_weights_cycles_factor': 1,\n   'edge_weights_self_factor': -1,\n   'non_edges': 10,\n   'invalid_traversal_cycle': 5}}]"
     },
     "execution_count": 44,
     "metadata": {},
     "output_type": "execute_result"
    }
   ],
   "source": [
    "from copy import deepcopy\n",
    "from random import choice\n",
    "\n",
    "# generate some non-positional optimizations\n",
    "number_of_non_positional_optimizations = 7\n",
    "np_opts = []\n",
    "for i in range(number_of_non_positional_optimizations):\n",
    "    np_opt = {\n",
    "        str(i): {\n",
    "            \"positions\": 1,\n",
    "            \"diagonal\": choice([-5, 5]),\n",
    "            \"nodes_with_edges\": choice([-5, 5, 10, None]),\n",
    "            \"edges\": choice([-5, 5, 10, None]),\n",
    "            \"non_edges\": choice([-5, 5, 10, None])\n",
    "        }\n",
    "    }\n",
    "\n",
    "    # remove any keys where None was selected\n",
    "    np_opts.append(\n",
    "        {k: {k2: value for k2, value in np_opt.get(k).items() if value is not None} for\n",
    "         k, _ in np_opt.items()}\n",
    "    )\n",
    "\n",
    "# generate some positional optimizations\n",
    "p_opts = []\n",
    "number_of_positional_optimizations = 6  # this will be doubled, once for pos=colors, once for pos=n\n",
    "for i in range(number_of_positional_optimizations):\n",
    "    p_opt_c = {\n",
    "        str(i): {\n",
    "            \"positions\": \"colors\",\n",
    "            \"start_node_score\": choice([-5, 5, None]),\n",
    "            \"terminal_node_score\": choice([-5, 5, None]),\n",
    "            \"diagonal\": choice([-5, 5, -10]),\n",
    "            \"one_node_many_positions\": choice([5, 10, None]),\n",
    "            \"one_position_many_nodes\": choice([5, 10, None]),\n",
    "            \"edges\": choice([5, 10, None]),\n",
    "            \"edge_weights_factor\": choice([-1, 1, None]),\n",
    "            \"edge_weights_cycles_factor\": choice([-1, 1, None]),\n",
    "            \"edge_weights_self_factor\": choice([-1, 1, None]),\n",
    "            \"non_edges\": choice([5, 10, None]),\n",
    "            \"invalid_traversal\": choice([5, None]),\n",
    "            \"invalid_traversal_cycle\": choice([5, None]),\n",
    "            \"invalid_traversal_self\": choice([5, None])\n",
    "        }\n",
    "    }\n",
    "    p_opt_n = deepcopy(p_opt_c)\n",
    "    p_opt_n[str(i)][\"positions\"] = \"n\"\n",
    "\n",
    "    p_opts.append(\n",
    "        {k: {k2: value for k2, value in p_opt_c.get(k).items() if value is not None} for\n",
    "         k, _ in p_opt_c.items()}\n",
    "    )\n",
    "    p_opts.append(\n",
    "        {k: {k2: value for k2, value in p_opt_n.get(k).items() if value is not None} for\n",
    "         k, _ in p_opt_n.items()}\n",
    "    )\n",
    "# These are saved manually to graph_optimizations.json\n",
    "np_opts + p_opts"
   ],
   "metadata": {
    "collapsed": false,
    "pycharm": {
     "name": "#%%\n"
    }
   }
  },
  {
   "cell_type": "markdown",
   "source": [
    "## Generate random graphs for experimentation"
   ],
   "metadata": {
    "collapsed": false,
    "pycharm": {
     "name": "#%% md\n"
    }
   }
  },
  {
   "cell_type": "code",
   "execution_count": 46,
   "outputs": [
    {
     "data": {
      "text/plain": "504"
     },
     "execution_count": 46,
     "metadata": {},
     "output_type": "execute_result"
    }
   ],
   "source": [
    "from random import randrange\n",
    "from typing import List\n",
    "\n",
    "from networkx import Graph\n",
    "\n",
    "graphs: List[Graph] = []\n",
    "\n",
    "graph_sizes = [4, 5, 6, 7, 8, 9, 10, 12, 14, 16, 18, 20]\n",
    "num_graph_per_size = 42\n",
    "\n",
    "for size in graph_sizes:\n",
    "    for i in range(num_graph_per_size):\n",
    "        graph = Graph()\n",
    "        num_edges = randrange(2, size * (\n",
    "                size - 2))  # rand in range of max number of possible edges\n",
    "        edges = []\n",
    "\n",
    "        for _ in range(num_edges):  # add random number of edges\n",
    "\n",
    "            u = randrange(size - 1)\n",
    "            v = randrange(size - 1)\n",
    "            w = randrange(1, 4)\n",
    "\n",
    "            if (u, v) not in [(u1, v1) for (u1, v1, _) in edges]:\n",
    "                edges.append((u, v, w))\n",
    "\n",
    "        for node in range(size):  # add an edge for any nodes not connected in the graph\n",
    "            if node not in [u for (u, _, _) in edges] and node not in [v for (_, v, _)\n",
    "                                                                       in edges]:\n",
    "                u = node\n",
    "                v = randrange(size - 1)\n",
    "                w = randrange(1, 4)\n",
    "\n",
    "                edges.append((u, v, w))\n",
    "\n",
    "        graph.add_weighted_edges_from(edges)\n",
    "        graphs.append(graph)\n",
    "\n",
    "len(graphs)"
   ],
   "metadata": {
    "collapsed": false,
    "pycharm": {
     "name": "#%%\n"
    }
   }
  },
  {
   "cell_type": "markdown",
   "source": [
    "## Save graphs for repeatability"
   ],
   "metadata": {
    "collapsed": false,
    "pycharm": {
     "name": "#%% md\n"
    }
   }
  },
  {
   "cell_type": "code",
   "execution_count": 47,
   "outputs": [],
   "source": [
    "import json\n",
    "from pathlib import Path\n",
    "\n",
    "from networkx import to_dict_of_dicts\n",
    "\n",
    "with open(Path(\"graphs.json\"), \"w\") as file:\n",
    "    json.dump(\n",
    "        {key: to_dict_of_dicts(value) for key, value in enumerate(graphs)}, file\n",
    "    )"
   ],
   "metadata": {
    "collapsed": false,
    "pycharm": {
     "name": "#%%\n"
    }
   }
  },
  {
   "cell_type": "markdown",
   "source": [
    "# Execute classical solving for graphs"
   ],
   "metadata": {
    "collapsed": false,
    "pycharm": {
     "name": "#%% md\n"
    }
   }
  },
  {
   "cell_type": "code",
   "execution_count": 50,
   "outputs": [],
   "source": [
    "from copy import deepcopy\n",
    "import json\n",
    "from pathlib import Path\n",
    "from bachelorthesis.graph_optimization import GraphOptimization\n",
    "\n",
    "from networkx import from_dict_of_dicts\n",
    "\n",
    "from bachelorthesis.solvers.qb_solv import solve as solve_qbs\n",
    "from bachelorthesis.solvers.repeated_simulated_annealing import solve as solve_rsa\n",
    "from bachelorthesis.solvers.simulated_annealing import solve as solve_sa\n",
    "from bachelorthesis.solvers.tabu_search import solve as solve_tbs\n",
    "\n",
    "with open(Path(\"graphs.json\"), \"r\") as graphs_file:\n",
    "    saved_graphs = json.load(graphs_file)\n",
    "\n",
    "with open(Path(\"graph_optimizations.json\"), \"r\") as g_opts_file:\n",
    "    optimization_parameters = json.load(g_opts_file)\n",
    "\n",
    "for graph_id, graph in saved_graphs.items():\n",
    "    # dict_of_dicts turns int keys into strings, this converts them back to ints\n",
    "    graph_data = {int(key): {int(key2): value for key2, value in graph.get(key).items()}\n",
    "                  for key, _ in graph.items()}\n",
    "    graph = from_dict_of_dicts(graph_data)\n",
    "\n",
    "    # create graph optimization\n",
    "    g_opt = GraphOptimization(graph=graph)\n",
    "    start_node = 0\n",
    "    terminal_node = graph.order() -1\n",
    "\n",
    "    results = []\n",
    "\n",
    "    for params_id, params in optimization_parameters.items():\n",
    "        # allow positions in the json to take on a value of \"n\" for faster problem creation\n",
    "        params_copy = deepcopy(params)\n",
    "        pos = params_copy.pop(\"positions\")\n",
    "        if pos == \"n\":\n",
    "            pos = graph.order()\n",
    "        elif pos == \"colors\":\n",
    "            # TODO: this is completely arbitrary, does it make sense??\n",
    "            pos = graph.order() // 3\n",
    "\n",
    "        # generate qubo\n",
    "        qubo = g_opt.generate_qubo(\n",
    "            positions=pos,\n",
    "            start_node=start_node,\n",
    "            terminal_node=terminal_node,\n",
    "            **params_copy\n",
    "        )\n",
    "\n",
    "        # solve qubo and store result with all the relevant solvers\n",
    "\n",
    "        solution_qbs = solve_qbs(qubo)\n",
    "        solution_rsa = solve_rsa(qubo, num_repeats=10)\n",
    "        solution_sa = solve_sa(qubo)\n",
    "        solution_tbs = solve_tbs(qubo)\n",
    "\n",
    "        result_entry = {\n",
    "            \"graph_id\": graph_id,\n",
    "            \"params_id\": params_id,\n",
    "            \"qubo\": qubo.tolist(),\n",
    "            \"solution_qbs_sample\": solution_qbs[0][0].tolist(),\n",
    "            \"solution_qbs_energy\": solution_qbs[1].tolist()[0],\n",
    "            \"solution_rsa_sample\": solution_rsa[0][0].tolist(),\n",
    "            \"solution_rsa_energy\": solution_rsa[1].tolist()[0],\n",
    "            \"solution_sa_sample\": solution_sa[0][0].tolist(),\n",
    "            \"solution_sa_energy\": solution_sa[1].tolist()[0],\n",
    "            \"solution_tbs_sample\": solution_tbs[0][0].tolist(),\n",
    "            \"solution_tbs_energy\": solution_tbs[1].tolist()[0]\n",
    "        }\n",
    "        results.append(result_entry)\n",
    "\n",
    "    # store results per graph because i/o is relatively expensive\n",
    "    with open(Path(\"results.json\"), \"r\") as results_file_in:\n",
    "        current_results = json.load(results_file_in)\n",
    "        current_results.extend(results)\n",
    "    with open(Path(\"results.json\"), \"w\") as results_file_out:\n",
    "        json.dump(current_results, results_file_out)\n"
   ],
   "metadata": {
    "collapsed": false,
    "pycharm": {
     "name": "#%%\n"
    }
   }
  },
  {
   "cell_type": "code",
   "execution_count": null,
   "outputs": [],
   "source": [
    "# solvers to use?\n",
    "# nico used SA, RRSA, SAGA, TABU\n",
    "# parameterization?"
   ],
   "metadata": {
    "collapsed": false,
    "pycharm": {
     "name": "#%%\n"
    }
   }
  }
 ],
 "metadata": {
  "kernelspec": {
   "display_name": "Python 3",
   "language": "python",
   "name": "python3"
  },
  "language_info": {
   "codemirror_mode": {
    "name": "ipython",
    "version": 2
   },
   "file_extension": ".py",
   "mimetype": "text/x-python",
   "name": "python",
   "nbconvert_exporter": "python",
   "pygments_lexer": "ipython2",
   "version": "2.7.6"
  }
 },
 "nbformat": 4,
 "nbformat_minor": 0
}