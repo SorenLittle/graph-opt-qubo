{
 "cells": [
  {
   "cell_type": "code",
   "execution_count": 12,
   "outputs": [
    {
     "data": {
      "text/plain": "[<networkx.classes.graph.Graph at 0x7fbc60796ac0>,\n <networkx.classes.graph.Graph at 0x7fbc60802d60>,\n <networkx.classes.graph.Graph at 0x7fbc60802790>,\n <networkx.classes.graph.Graph at 0x7fbc608026a0>,\n <networkx.classes.graph.Graph at 0x7fbc60802be0>,\n <networkx.classes.graph.Graph at 0x7fbc608029a0>,\n <networkx.classes.graph.Graph at 0x7fbc60700070>,\n <networkx.classes.graph.Graph at 0x7fbc607000a0>,\n <networkx.classes.graph.Graph at 0x7fbc60802b80>,\n <networkx.classes.graph.Graph at 0x7fbc60700910>,\n <networkx.classes.graph.Graph at 0x7fbca0a13f40>,\n <networkx.classes.graph.Graph at 0x7fbca0c8d5e0>]"
     },
     "execution_count": 12,
     "metadata": {},
     "output_type": "execute_result"
    }
   ],
   "source": [
    "from random import randrange\n",
    "from typing import List\n",
    "from networkx import Graph\n",
    "\n",
    "graphs: List[Graph] = []\n",
    "\n",
    "graph_sizes = [4, 5, 6, 7, 8, 9, 10, 12, 14, 16, 18, 20]\n",
    "num_graph_per_size = 4\n",
    "\n",
    "for size in graph_sizes:\n",
    "    for i in range(num_graph_per_size):\n",
    "        graph = Graph()\n",
    "        num_edges = randrange(2, size*(size-2))  # rand in range of max number of possible edges\n",
    "        edges = []\n",
    "\n",
    "        for _ in range(num_edges):  # add random number of edges\n",
    "\n",
    "            u = randrange(size-1)\n",
    "            v = randrange(size-1)\n",
    "            w = randrange(1, 4)\n",
    "\n",
    "            if (u, v) not in [(u1, v1) for (u1, v1, _) in edges]:\n",
    "                edges.append((u, v, w))\n",
    "\n",
    "        for node in range(size):  # add an edge for any nodes not connected in the graph\n",
    "            if node not in [u for (u, _, _) in edges] and node not in [v for (_, v, _) in edges]:\n",
    "                u = node\n",
    "                v = randrange(size-1)\n",
    "                w = randrange(1, 4)\n",
    "\n",
    "                edges.append((u, v, w))\n",
    "\n",
    "        graph.add_weighted_edges_from(edges)\n",
    "        graphs.append(graph)\n",
    "\n",
    "len(graphs)"
   ],
   "metadata": {
    "collapsed": false,
    "pycharm": {
     "name": "#%%\n"
    }
   }
  },
  {
   "cell_type": "code",
   "execution_count": null,
   "outputs": [],
   "source": [],
   "metadata": {
    "collapsed": false,
    "pycharm": {
     "name": "#%%\n"
    }
   }
  }
 ],
 "metadata": {
  "kernelspec": {
   "display_name": "Python 3",
   "language": "python",
   "name": "python3"
  },
  "language_info": {
   "codemirror_mode": {
    "name": "ipython",
    "version": 2
   },
   "file_extension": ".py",
   "mimetype": "text/x-python",
   "name": "python",
   "nbconvert_exporter": "python",
   "pygments_lexer": "ipython2",
   "version": "2.7.6"
  }
 },
 "nbformat": 4,
 "nbformat_minor": 0
}